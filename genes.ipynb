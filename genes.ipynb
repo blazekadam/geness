{
 "cells": [
  {
   "cell_type": "markdown",
   "metadata": {},
   "source": [
    "## Gene similarity"
   ]
  },
  {
   "cell_type": "code",
   "execution_count": 20,
   "metadata": {
    "collapsed": false
   },
   "outputs": [],
   "source": [
    "import os\n",
    "\n",
    "#retrieves gene from a file in FASTA format\n",
    "def readGene(filename):\n",
    "    with open(filename, 'r') as f:\n",
    "        data = f.read()\n",
    "    return data[data.find('\\n'):].replace('\\n','')\n",
    "    \n",
    "    \n",
    "#runs the GenCompress algorithm on the given gene and returns the size of the output\n",
    "def compressGene(gene,condition):\n",
    "    with open('tmp','w') as tmp:\n",
    "        tmp.write(gene)\n",
    "        if condition:\n",
    "            with open('tmp_cond','w') as tmp_cond:\n",
    "                tmp_cond.write(condition)\n",
    "                os.system('./GenCompress tmp -c tmp_cond')\n",
    "        else:\n",
    "            os.system('./GenCompress tmp')\n",
    "    size = os.stat('./tmp.GEN').st_size\n",
    "    os.remove('./tmp')\n",
    "    os.remove('./tmp.GEN')\n",
    "    os.remove('./tmp.LOG')\n",
    "    if condition:\n",
    "        os.remove('./tmp_cond')\n",
    "    return size\n",
    "\n",
    "#returns similarity(distance) of the given genes\n",
    "def geneSimilarity(uFile,vFile):\n",
    "    u = readGene(uFile)\n",
    "    v = readGene(vFile)\n",
    "    cu = compressGene(u,None)\n",
    "    cuv = compressGene(u+v,None)\n",
    "    cu_v = compressGene(u,v)\n",
    "    return 1 - 1.0*(cu - cu_v)/cu_v"
   ]
  },
  {
   "cell_type": "markdown",
   "metadata": {},
   "source": [
    "## Similarity matrix"
   ]
  },
  {
   "cell_type": "code",
   "execution_count": 79,
   "metadata": {
    "collapsed": false
   },
   "outputs": [
    {
     "name": "stdout",
     "output_type": "stream",
     "text": [
      "Found 29 species\n",
      "Calculating similarity 812/812\n",
      "Done\n"
     ]
    }
   ],
   "source": [
    "import numpy as np\n",
    "import sys\n",
    "\n",
    "filenames = []\n",
    "\n",
    "def getNumber(filename):\n",
    "    name = filename[filename.rfind(os.path.sep)+1:]\n",
    "    return int(name[:name.find('.')])\n",
    "\n",
    "for root, _, files in os.walk('genes'):      \n",
    "    for filename in files:\n",
    "        if(filename.endswith('.fasta')):\n",
    "            filenames.append(os.path.join(root,filename))\n",
    "            \n",
    "size = len(filenames)\n",
    "print('Found '+str(size)+' species')\n",
    "simMatrix = np.zeros((size,size))\n",
    "\n",
    "total = int(size*size-size)\n",
    "done = 0\n",
    "\n",
    "for i in range(0,size):\n",
    "    for j in range(0,size):\n",
    "        if i != j:\n",
    "            uFile = filenames[i];\n",
    "            vFile = filenames[j];\n",
    "            uIndex = getNumber(uFile)-1\n",
    "            vIndex = getNumber(vFile)-1\n",
    "            simMatrix[uIndex,vIndex] = geneSimilarity(uFile,vFile)\n",
    "            simMatrix[vIndex,uIndex] = simMatrix[uIndex,vIndex]\n",
    "            done += 1\n",
    "            sys.stdout.write(\"\\rCalculating similarity {}/{}\".format(done,total))\n",
    "            sys.stdout.flush()\n",
    "print('\\nDone')"
   ]
  },
  {
   "cell_type": "markdown",
   "metadata": {},
   "source": [
    "## Nearest neighbours"
   ]
  },
  {
   "cell_type": "code",
   "execution_count": 81,
   "metadata": {
    "collapsed": false,
    "scrolled": true
   },
   "outputs": [
    {
     "name": "stdout",
     "output_type": "stream",
     "text": [
      "╒═══════════════════╤═════════════════════╕\n",
      "│ Species           │ Nearest neighbour   │\n",
      "╞═══════════════════╪═════════════════════╡\n",
      "│ baboon            │ common chimpanzee   │\n",
      "├───────────────────┼─────────────────────┤\n",
      "│ cat               │ harbor seal         │\n",
      "├───────────────────┼─────────────────────┤\n",
      "│ common chimpanzee │ bonobo chimpanzee   │\n",
      "├───────────────────┼─────────────────────┤\n",
      "│ bonobo chimpanzee │ common chimpanzee   │\n",
      "├───────────────────┼─────────────────────┤\n",
      "│ cow               │ sheep               │\n",
      "├───────────────────┼─────────────────────┤\n",
      "│ dog               │ gray seal           │\n",
      "├───────────────────┼─────────────────────┤\n",
      "│ donkey            │ horse               │\n",
      "├───────────────────┼─────────────────────┤\n",
      "│ fat dormouse      │ rat                 │\n",
      "├───────────────────┼─────────────────────┤\n",
      "│ gibbon            │ common chimpanzee   │\n",
      "├───────────────────┼─────────────────────┤\n",
      "│ gorilla           │ human               │\n",
      "├───────────────────┼─────────────────────┤\n",
      "│ guinea pig        │ cow                 │\n",
      "├───────────────────┼─────────────────────┤\n",
      "│ hippo             │ cow                 │\n",
      "├───────────────────┼─────────────────────┤\n",
      "│ horse             │ donkey              │\n",
      "├───────────────────┼─────────────────────┤\n",
      "│ human             │ common chimpanzee   │\n",
      "├───────────────────┼─────────────────────┤\n",
      "│ mouse             │ rat                 │\n",
      "├───────────────────┼─────────────────────┤\n",
      "│ opossum           │ wallaroo            │\n",
      "├───────────────────┼─────────────────────┤\n",
      "│ orangutan         │ common chimpanzee   │\n",
      "├───────────────────┼─────────────────────┤\n",
      "│ pig               │ cow                 │\n",
      "├───────────────────┼─────────────────────┤\n",
      "│ platypus          │ cow                 │\n",
      "├───────────────────┼─────────────────────┤\n",
      "│ rat               │ mouse               │\n",
      "├───────────────────┼─────────────────────┤\n",
      "│ white rhino       │ indian rhino        │\n",
      "├───────────────────┼─────────────────────┤\n",
      "│ indian rhino      │ white rhino         │\n",
      "├───────────────────┼─────────────────────┤\n",
      "│ harbor seal       │ gray seal           │\n",
      "├───────────────────┼─────────────────────┤\n",
      "│ gray seal         │ harbor seal         │\n",
      "├───────────────────┼─────────────────────┤\n",
      "│ sheep             │ cow                 │\n",
      "├───────────────────┼─────────────────────┤\n",
      "│ squirrel          │ cow                 │\n",
      "├───────────────────┼─────────────────────┤\n",
      "│ wallaroo          │ opossum             │\n",
      "├───────────────────┼─────────────────────┤\n",
      "│ fin whale         │ blue whale          │\n",
      "├───────────────────┼─────────────────────┤\n",
      "│ blue whale        │ fin whale           │\n",
      "╘═══════════════════╧═════════════════════╛\n"
     ]
    }
   ],
   "source": [
    "from tabulate import tabulate\n",
    "\n",
    "simTmp = simMatrix.copy()\n",
    "for i in range(0,size):\n",
    "    simTmp[i,i]=1\n",
    "\n",
    "nn = np.argmin(simTmp,0)\n",
    "\n",
    "with open('species','r') as speciesFile:\n",
    "    species = speciesFile.read().split('\\n')[:-1]\n",
    "\n",
    "width = max([len(s) for s in species]) + 1\n",
    "\n",
    "nnPairs = [(species[i],species[nn[i]]) for i in range(0,size)]\n",
    "\n",
    "print(tabulate(nnPairs,headers=['Species','Nearest neighbour'],tablefmt=\"fancy_grid\"))\n"
   ]
  }
 ],
 "metadata": {
  "kernelspec": {
   "display_name": "Python 2",
   "language": "python",
   "name": "python2"
  },
  "language_info": {
   "codemirror_mode": {
    "name": "ipython",
    "version": 2
   },
   "file_extension": ".py",
   "mimetype": "text/x-python",
   "name": "python",
   "nbconvert_exporter": "python",
   "pygments_lexer": "ipython2",
   "version": "2.7.6"
  }
 },
 "nbformat": 4,
 "nbformat_minor": 0
}
