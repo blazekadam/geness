{
 "cells": [
  {
   "cell_type": "markdown",
   "metadata": {},
   "source": [
    "## Gene similarity"
   ]
  },
  {
   "cell_type": "code",
   "execution_count": 2,
   "metadata": {
    "collapsed": false
   },
   "outputs": [],
   "source": [
    "import os\n",
    "\n",
    "#retrieves gene from a file in FASTA format\n",
    "def readGene(filename):\n",
    "    with open(filename, 'r') as f:\n",
    "        data = f.read()\n",
    "    return data[data.find('\\n'):].replace('\\n','')\n",
    "    \n",
    "    \n",
    "#runs the GenCompress algorithm on the given gene and returns the size of the output\n",
    "def compressGene(gene,condition):\n",
    "    with open('tmp','w') as tmp:\n",
    "        tmp.write(gene)\n",
    "        if condition:\n",
    "            with open('tmp_cond','w') as tmp_cond:\n",
    "                tmp_cond.write(condition)\n",
    "                os.system('./GenCompress tmp -c tmp_cond')\n",
    "        else:\n",
    "            os.system('./GenCompress tmp')\n",
    "    size = os.stat('./tmp.GEN').st_size\n",
    "    os.remove('./tmp')\n",
    "    os.remove('./tmp.GEN')\n",
    "    os.remove('./tmp.LOG')\n",
    "    if condition:\n",
    "        os.remove('./tmp_cond')\n",
    "    return size\n",
    "\n",
    "#returns similarity(distance) of the given genes\n",
    "def geneSimilarity(uFile,vFile):\n",
    "    u = readGene(uFile)\n",
    "    v = readGene(vFile)\n",
    "    cu = compressGene(u,None)\n",
    "    cuv = compressGene(u+v,None)\n",
    "    cu_v = compressGene(u,v)\n",
    "    return 1 - 1.0*(cu - cu_v)/cu_v"
   ]
  },
  {
   "cell_type": "markdown",
   "metadata": {},
   "source": [
    "## Similarity matrix"
   ]
  },
  {
   "cell_type": "code",
   "execution_count": 3,
   "metadata": {
    "collapsed": false
   },
   "outputs": [
    {
     "name": "stdout",
     "output_type": "stream",
     "text": [
      "Found 29 species\n",
      "Calculating similarity 812/812\n",
      "Done\n"
     ]
    }
   ],
   "source": [
    "import numpy as np\n",
    "import sys\n",
    "\n",
    "filenames = []\n",
    "\n",
    "def getNumber(filename):\n",
    "    name = filename[filename.rfind(os.path.sep)+1:]\n",
    "    return int(name[:name.find('.')])\n",
    "\n",
    "for root, _, files in os.walk('genes'):      \n",
    "    for filename in files:\n",
    "        if(filename.endswith('.fasta')):\n",
    "            filenames.append(os.path.join(root,filename))\n",
    "            \n",
    "size = len(filenames)\n",
    "print('Found '+str(size)+' species')\n",
    "simMatrix = np.zeros((size,size))\n",
    "\n",
    "total = int(size*size-size)\n",
    "done = 0\n",
    "\n",
    "for i in range(0,size):\n",
    "    for j in range(0,size):\n",
    "        if i != j:\n",
    "            uFile = filenames[i];\n",
    "            vFile = filenames[j];\n",
    "            uIndex = getNumber(uFile)-1\n",
    "            vIndex = getNumber(vFile)-1\n",
    "            simMatrix[uIndex,vIndex] = geneSimilarity(uFile,vFile)\n",
    "            simMatrix[vIndex,uIndex] = simMatrix[uIndex,vIndex]\n",
    "            done += 1\n",
    "            sys.stdout.write(\"\\rCalculating similarity {}/{}\".format(done,total))\n",
    "            sys.stdout.flush()\n",
    "print('\\nDone')"
   ]
  },
  {
   "cell_type": "markdown",
   "metadata": {},
   "source": [
    "## Nearest neighbours"
   ]
  },
  {
   "cell_type": "code",
   "execution_count": 5,
   "metadata": {
    "collapsed": false,
    "scrolled": true
   },
   "outputs": [
    {
     "name": "stdout",
     "output_type": "stream",
     "text": [
      "╒═══════════════════╤═════════════════════╕\n",
      "│ Species           │ Nearest neighbour   │\n",
      "╞═══════════════════╪═════════════════════╡\n",
      "│ baboon            │ common chimpanzee   │\n",
      "├───────────────────┼─────────────────────┤\n",
      "│ cat               │ harbor seal         │\n",
      "├───────────────────┼─────────────────────┤\n",
      "│ common chimpanzee │ bonobo chimpanzee   │\n",
      "├───────────────────┼─────────────────────┤\n",
      "│ bonobo chimpanzee │ common chimpanzee   │\n",
      "├───────────────────┼─────────────────────┤\n",
      "│ cow               │ sheep               │\n",
      "├───────────────────┼─────────────────────┤\n",
      "│ dog               │ gray seal           │\n",
      "├───────────────────┼─────────────────────┤\n",
      "│ donkey            │ horse               │\n",
      "├───────────────────┼─────────────────────┤\n",
      "│ fat dormouse      │ squirrel            │\n",
      "├───────────────────┼─────────────────────┤\n",
      "│ gibbon            │ common chimpanzee   │\n",
      "├───────────────────┼─────────────────────┤\n",
      "│ gorilla           │ common chimpanzee   │\n",
      "├───────────────────┼─────────────────────┤\n",
      "│ guinea pig        │ indian rhino        │\n",
      "├───────────────────┼─────────────────────┤\n",
      "│ hippo             │ blue whale          │\n",
      "├───────────────────┼─────────────────────┤\n",
      "│ horse             │ donkey              │\n",
      "├───────────────────┼─────────────────────┤\n",
      "│ human             │ common chimpanzee   │\n",
      "├───────────────────┼─────────────────────┤\n",
      "│ mouse             │ rat                 │\n",
      "├───────────────────┼─────────────────────┤\n",
      "│ opossum           │ wallaroo            │\n",
      "├───────────────────┼─────────────────────┤\n",
      "│ orangutan         │ common chimpanzee   │\n",
      "├───────────────────┼─────────────────────┤\n",
      "│ pig               │ white rhino         │\n",
      "├───────────────────┼─────────────────────┤\n",
      "│ platypus          │ fat dormouse        │\n",
      "├───────────────────┼─────────────────────┤\n",
      "│ rat               │ mouse               │\n",
      "├───────────────────┼─────────────────────┤\n",
      "│ white rhino       │ indian rhino        │\n",
      "├───────────────────┼─────────────────────┤\n",
      "│ indian rhino      │ white rhino         │\n",
      "├───────────────────┼─────────────────────┤\n",
      "│ harbor seal       │ gray seal           │\n",
      "├───────────────────┼─────────────────────┤\n",
      "│ gray seal         │ harbor seal         │\n",
      "├───────────────────┼─────────────────────┤\n",
      "│ sheep             │ cow                 │\n",
      "├───────────────────┼─────────────────────┤\n",
      "│ squirrel          │ fat dormouse        │\n",
      "├───────────────────┼─────────────────────┤\n",
      "│ wallaroo          │ opossum             │\n",
      "├───────────────────┼─────────────────────┤\n",
      "│ fin whale         │ blue whale          │\n",
      "├───────────────────┼─────────────────────┤\n",
      "│ blue whale        │ fin whale           │\n",
      "╘═══════════════════╧═════════════════════╛\n"
     ]
    }
   ],
   "source": [
    "from tabulate import tabulate\n",
    "\n",
    "simTmp = simMatrix.copy()\n",
    "for i in range(0,size):\n",
    "    simTmp[i,i]=1\n",
    "\n",
    "nn = np.argmin(simTmp,0)\n",
    "\n",
    "with open('species','r') as speciesFile:\n",
    "    species = speciesFile.read().split('\\n')[:-1]\n",
    "\n",
    "width = max([len(s) for s in species]) + 1\n",
    "\n",
    "nnPairs = [(species[i],species[nn[i]]) for i in range(0,size)]\n",
    "\n",
    "print(tabulate(nnPairs,headers=['Species','Nearest neighbour'],tablefmt=\"fancy_grid\"))\n"
   ]
  },
  {
   "cell_type": "markdown",
   "metadata": {},
   "source": [
    "## Download and resize images"
   ]
  },
  {
   "cell_type": "code",
   "execution_count": 6,
   "metadata": {
    "collapsed": false,
    "scrolled": false
   },
   "outputs": [
    {
     "name": "stdout",
     "output_type": "stream",
     "text": [
      "Downloading image of baboon ... 1/29\n",
      "Downloading image of cat ... 2/29\n",
      "Downloading image of common chimpanzee ... 3/29\n",
      "Downloading image of bonobo chimpanzee ... 4/29\n",
      "Downloading image of cow ... 5/29\n",
      "Downloading image of dog ... 6/29\n",
      "Downloading image of donkey ... 7/29\n",
      "Downloading image of fat dormouse ... 8/29\n",
      "Downloading image of gibbon ... 9/29\n",
      "Downloading image of gorilla ... 10/29\n",
      "Downloading image of guinea pig ... 11/29\n",
      "Downloading image of hippo ... 12/29\n",
      "Downloading image of horse ... 13/29\n",
      "Downloading image of human ... 14/29\n",
      "Downloading image of mouse ... 15/29\n",
      "Downloading image of opossum ... 16/29\n",
      "Downloading image of orangutan ... 17/29\n",
      "Downloading image of pig ... 18/29\n",
      "Downloading image of platypus ... 19/29\n",
      "Downloading image of rat ... 20/29\n",
      "Downloading image of white rhino ... 21/29\n",
      "Downloading image of indian rhino ... 22/29\n",
      "Downloading image of harbor seal ... 23/29\n",
      "Downloading image of gray seal ... 24/29\n",
      "Downloading image of sheep ... 25/29\n",
      "Downloading image of squirrel ... 26/29\n",
      "Downloading image of wallaroo ... 27/29\n",
      "Downloading image of fin whale ... 28/29\n",
      "Downloading image of blue whale ... 29/29\n",
      "Done\n"
     ]
    },
    {
     "name": "stderr",
     "output_type": "stream",
     "text": [
      "/usr/lib64/python3.4/site-packages/ipykernel/__main__.py:34: DeprecationWarning: MyOpener style of invoking requests is deprecated. Use newer urlopen functions/methods\n"
     ]
    }
   ],
   "source": [
    "import os\n",
    "import shutil # used for 'rm -r'\n",
    "import sys\n",
    "import json\n",
    "from io import StringIO\n",
    "from PIL import Image\n",
    "from urllib.request import FancyURLopener\n",
    "import requests\n",
    "\n",
    "imagesDir = './images/'\n",
    "tmpDir = \"./tmp915667/\"\n",
    "if not os.path.exists(tmpDir):\n",
    "    os.makedirs(tmpDir)\n",
    "if not os.path.exists(imagesDir):\n",
    "    os.makedirs(imagesDir)\n",
    "\n",
    "with open('species','r') as speciesFile:\n",
    "    species = speciesFile.read().split('\\n')[:-1]\n",
    "\n",
    "def getImageUrl(keyword):\n",
    "    searchTerm = keyword\n",
    "    startIndex = \"0\"\n",
    "    searchUrl = \"http://ajax.googleapis.com/ajax/services/search/images?v=1.0&q=\" + searchTerm + \"&start=\" + startIndex\n",
    "    \n",
    "    jsonFile = requests.get(searchUrl).json()\n",
    "    imageUrl = jsonFile['responseData']['results'][0]['unescapedUrl']\n",
    "    return imageUrl\n",
    "\n",
    "# Http header must be changed because some websites don't allow downloading image to robots\n",
    "class MyOpener(FancyURLopener):\n",
    "    version = 'Mozilla/5.0 (Windows; U; Windows NT 5.1; it; rv:1.8.1.11) Gecko/20071127 Firefox/2.0.0.11'\n",
    "\n",
    "def downloadImage(imageUrl, searchTerm):\n",
    "    myopener = MyOpener()\n",
    "    tmpImagePath = tmpDir + searchTerm\n",
    "    myopener.retrieve(imageUrl, tmpImagePath)\n",
    "    return tmpImagePath\n",
    "\n",
    "total = len(species)\n",
    "current = 1\n",
    "for searchTerm in species:\n",
    "    sys.stdout.write(\"\\rDownloading image of \" + searchTerm + \" ... \" + \"{}/{}\\n\".format(current,total))\n",
    "    sys.stdout.flush()\n",
    "    imageUrl = getImageUrl(searchTerm)\n",
    "    tmpImagePath = downloadImage(imageUrl, searchTerm)\n",
    "    resImagePath = imagesDir + searchTerm + \".png\"\n",
    "    Image.open(tmpImagePath).resize((300, 200), Image.BILINEAR).save(resImagePath)\n",
    "    current += 1\n",
    "\n",
    "shutil.rmtree(tmpDir)\n",
    "print(\"Done\")\n"
   ]
  },
  {
   "cell_type": "code",
   "execution_count": 64,
   "metadata": {
    "collapsed": false,
    "scrolled": true
   },
   "outputs": [
    {
     "data": {
      "text/plain": [
       "0"
      ]
     },
     "execution_count": 64,
     "metadata": {},
     "output_type": "execute_result"
    }
   ],
   "source": [
    "#import networkx as nx\n",
    "from pygraphviz import AGraph\n",
    "#import string\n",
    "\n",
    "distMatrix = 15 * simMatrix * np.array(simMatrix >= 0, dtype=int)\n",
    "\n",
    "#dt = [('len', float)]\n",
    "#G = nx.from_numpy_matrix(distMatrix.view(dt))\n",
    "\n",
    "# Generate a graph description for graphviz, adding one node at a time\n",
    "G = AGraph(fontsize=100)\n",
    "for y in range(size):\n",
    "    G.add_node(y, image=\"{}{}.png\".format(imagesDir, species[y]), xlabel=species[y], shape=\"rectange\", fontsize=50)\n",
    "    for x in range(y+1, size):\n",
    "        G.add_edge(y, x, len=distMatrix[y, x])\n",
    "        \n",
    "#G = nx.relabel_nodes(G, dict(zip(range(len(G.nodes())), string.ascii_uppercase)))\n",
    "#G = nx.to_agraph(G)\n",
    "\n",
    "#G.node_attr.update(style=\"filled\")\n",
    "#G.edge_attr.update(color=\"blue\", width=\"2.0\")\n",
    "\n",
    "# Create graph image\n",
    "with open(\"grafx.dot\", \"w\") as fout:\n",
    "    print(G, file=fout) \n",
    "os.system(\"neato -Tpng -o grafx.png grafx.dot\")\n",
    "\n",
    "#G.draw(path='graf5.png', prog='neato')"
   ]
  },
  {
   "cell_type": "markdown",
   "metadata": {},
   "source": [
    "![graf](grafx.png)"
   ]
  },
  {
   "cell_type": "code",
   "execution_count": 79,
   "metadata": {
    "collapsed": false,
    "scrolled": true
   },
   "outputs": [
    {
     "data": {
      "text/plain": [
       "<matplotlib.axes._subplots.AxesSubplot at 0x7f47f112b128>"
      ]
     },
     "execution_count": 79,
     "metadata": {},
     "output_type": "execute_result"
    },
    {
     "data": {
      "image/png": "[encoded data removed]",
      "text/plain": [
       "<matplotlib.figure.Figure at 0x7f47f11339e8>"
      ]
     },
     "metadata": {},
     "output_type": "display_data"
    }
   ],
   "source": [
    "import seaborn as sns\n",
    "%matplotlib inline\n",
    "sns.set()\n",
    "\n",
    "sns.heatmap(simMatrix[:, 0:10], annot=True)\n"
   ]
  }
 ],
 "metadata": {
  "kernelspec": {
   "display_name": "Python 3",
   "language": "python",
   "name": "python3"
  },
  "language_info": {
   "codemirror_mode": {
    "name": "ipython",
    "version": 3
   },
   "file_extension": ".py",
   "mimetype": "text/x-python",
   "name": "python",
   "nbconvert_exporter": "python",
   "pygments_lexer": "ipython3",
   "version": "3.4.3"
  }
 },
 "nbformat": 4,
 "nbformat_minor": 0
}
